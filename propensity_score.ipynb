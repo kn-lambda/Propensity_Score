{
 "cells": [
  {
   "cell_type": "code",
   "execution_count": 1,
   "metadata": {
    "collapsed": false
   },
   "outputs": [],
   "source": [
    "import pandas as pd\n",
    "import numpy as np"
   ]
  },
  {
   "cell_type": "markdown",
   "metadata": {},
   "source": [
    "# Make dummy data"
   ]
  },
  {
   "cell_type": "code",
   "execution_count": 2,
   "metadata": {
    "collapsed": true
   },
   "outputs": [],
   "source": [
    "age = [\"10代\", \"20代\", \"30代\", \"40代\", \"50代\", \"60代\", \"70代\"]\n",
    "gender = [\"女性\", \"男性\"]"
   ]
  },
  {
   "cell_type": "code",
   "execution_count": 3,
   "metadata": {
    "collapsed": false
   },
   "outputs": [],
   "source": [
    "def generate_users(n_users, **features):\n",
    "    \"\"\"make user list where columns are 'user_id' and feature columns ('age', 'gender',... etc)\n",
    "       values of the feature columns are randomly chosen from the given list\n",
    "    \"\"\"\n",
    "    user_id = [i + 1 for i in range(n_users)]\n",
    "    df = pd.DataFrame({\"user_id\":user_id})\n",
    "    \n",
    "    np.random.seed(100)\n",
    "    for col in features:\n",
    "        feature = features[col]\n",
    "        values = np.random.choice(feature, n_users)\n",
    "        df[col] = values\n",
    "    \n",
    "    return df\n",
    "\n",
    "\n",
    "def add_flag(df, **targets):\n",
    "    \"\"\"add flag column named as 'x_flag'\n",
    "       bias is added to the users specified in the variables '**targets'\n",
    "    \"\"\"\n",
    "    n_users = df.shape[0]\n",
    "    \n",
    "    # specify users to whom bias is added\n",
    "    is_target = [True for _ in range(n_users)]\n",
    "    for col in targets:\n",
    "        target_values = targets[col]\n",
    "        is_value = [False for _ in range(n_users)]    \n",
    "        for value in target_values:\n",
    "            tmp_bool = (df[col] == value)\n",
    "            is_value = np.logical_or(is_value, tmp_bool)\n",
    "        is_target = np.logical_and(is_target, is_value)\n",
    "            \n",
    "    #assign flag\n",
    "    flag = [0, 1]\n",
    "    #for ordinary users, 10% of them are assigned to 'flag=1'\n",
    "    weight = [0.9, 0.1]\n",
    "    np.random.seed(200)\n",
    "    df[\"x_flag\"] = np.random.choice(flag, n_users, p=weight)\n",
    "    #for users specified above, 90% of them are assigned to 'flag=1'  \n",
    "    weight = [0.1, 0.9]\n",
    "    np.random.seed(300)\n",
    "    df.ix[is_target, \"x_flag\"] = np.random.choice(flag, n_users, p=weight)\n",
    "    \n",
    "    return df\n",
    "    \n",
    "    \n",
    "def add_rate(df, **targets):\n",
    "    \"\"\"add real valued column named as 'x_rate', where the values are normalized between 0 and 1\n",
    "       for the users with 'flag=1', values in 'x_rate' are increased\n",
    "       for the users specified by '**targets', values in 'x_rate' are much higher, regardless of 'flag=1 or 0'\n",
    "    \"\"\"\n",
    "    n_users = df.shape[0]\n",
    "    \n",
    "    #specify users to whom high 'x_rate' values are set\n",
    "    is_target = [True for _ in range(n_users)]\n",
    "    for col in targets:\n",
    "        target_values = targets[col]\n",
    "        is_value = [False for _ in range(n_users)]    \n",
    "        for value in target_values:\n",
    "            tmp_bool = (df[col] == value)\n",
    "            is_value = np.logical_or(is_value, tmp_bool)\n",
    "        is_target = np.logical_and(is_target, is_value)\n",
    "            \n",
    "    #for users with 'flag=0', 'x_rate' values are sampled from Normal(0.2, 0.1)\n",
    "    np.random.seed(200)\n",
    "    df[\"x_rate\"] = np.random.normal(0.2, 0.1, n_users)\n",
    "    \n",
    "    #for users with 'flag=1', 'x_rate' values are increased by 0.2 point\n",
    "    is_flag = (df[\"x_flag\"] == 1)\n",
    "    df.ix[is_flag, \"x_rate\"] += 0.2\n",
    "    \n",
    "    #for users specified by '**targets', 'x_rate' values are sampled from Normal(0.8, 0.2)\n",
    "    np.random.seed(300)\n",
    "    df.ix[is_target, \"x_rate\"] = np.random.normal(0.8, 0.2, n_users)\n",
    "    \n",
    "    #for convenience normalize to [0 ,1]\n",
    "    df.ix[df[\"x_rate\"] > 1, \"x_rate\"] = 1    \n",
    "    df.ix[df[\"x_rate\"] < 0, \"x_rate\"] = 0\n",
    "\n",
    "    return df    "
   ]
  },
  {
   "cell_type": "code",
   "execution_count": 4,
   "metadata": {
    "collapsed": false
   },
   "outputs": [],
   "source": [
    "n_users = 100000\n",
    "df = generate_users(n_users, age=age, gender=gender)\n",
    "df = add_flag(df, age=[\"20代\", \"30代\"], gender=[\"男性\"])\n",
    "df = add_rate(df, age=[\"20代\", \"30代\"], gender=[\"男性\"])"
   ]
  },
  {
   "cell_type": "markdown",
   "metadata": {},
   "source": [
    "# Check the data"
   ]
  },
  {
   "cell_type": "code",
   "execution_count": 5,
   "metadata": {
    "collapsed": false
   },
   "outputs": [
    {
     "data": {
      "text/html": [
       "<div>\n",
       "<table border=\"1\" class=\"dataframe\">\n",
       "  <thead>\n",
       "    <tr style=\"text-align: right;\">\n",
       "      <th></th>\n",
       "      <th>user_id</th>\n",
       "      <th>age</th>\n",
       "      <th>gender</th>\n",
       "      <th>x_flag</th>\n",
       "      <th>x_rate</th>\n",
       "    </tr>\n",
       "  </thead>\n",
       "  <tbody>\n",
       "    <tr>\n",
       "      <th>0</th>\n",
       "      <td>1</td>\n",
       "      <td>10代</td>\n",
       "      <td>男性</td>\n",
       "      <td>1</td>\n",
       "      <td>0.254905</td>\n",
       "    </tr>\n",
       "    <tr>\n",
       "      <th>1</th>\n",
       "      <td>2</td>\n",
       "      <td>10代</td>\n",
       "      <td>女性</td>\n",
       "      <td>0</td>\n",
       "      <td>0.391095</td>\n",
       "    </tr>\n",
       "    <tr>\n",
       "      <th>2</th>\n",
       "      <td>3</td>\n",
       "      <td>40代</td>\n",
       "      <td>女性</td>\n",
       "      <td>0</td>\n",
       "      <td>0.271188</td>\n",
       "    </tr>\n",
       "    <tr>\n",
       "      <th>3</th>\n",
       "      <td>4</td>\n",
       "      <td>10代</td>\n",
       "      <td>男性</td>\n",
       "      <td>0</td>\n",
       "      <td>0.175226</td>\n",
       "    </tr>\n",
       "    <tr>\n",
       "      <th>4</th>\n",
       "      <td>5</td>\n",
       "      <td>30代</td>\n",
       "      <td>男性</td>\n",
       "      <td>1</td>\n",
       "      <td>0.502966</td>\n",
       "    </tr>\n",
       "    <tr>\n",
       "      <th>5</th>\n",
       "      <td>6</td>\n",
       "      <td>70代</td>\n",
       "      <td>男性</td>\n",
       "      <td>0</td>\n",
       "      <td>0.196705</td>\n",
       "    </tr>\n",
       "    <tr>\n",
       "      <th>6</th>\n",
       "      <td>7</td>\n",
       "      <td>50代</td>\n",
       "      <td>男性</td>\n",
       "      <td>0</td>\n",
       "      <td>0.177865</td>\n",
       "    </tr>\n",
       "    <tr>\n",
       "      <th>7</th>\n",
       "      <td>8</td>\n",
       "      <td>30代</td>\n",
       "      <td>女性</td>\n",
       "      <td>1</td>\n",
       "      <td>0.447726</td>\n",
       "    </tr>\n",
       "    <tr>\n",
       "      <th>8</th>\n",
       "      <td>9</td>\n",
       "      <td>60代</td>\n",
       "      <td>女性</td>\n",
       "      <td>0</td>\n",
       "      <td>0.130806</td>\n",
       "    </tr>\n",
       "    <tr>\n",
       "      <th>9</th>\n",
       "      <td>10</td>\n",
       "      <td>30代</td>\n",
       "      <td>女性</td>\n",
       "      <td>1</td>\n",
       "      <td>0.479201</td>\n",
       "    </tr>\n",
       "  </tbody>\n",
       "</table>\n",
       "</div>"
      ],
      "text/plain": [
       "   user_id  age gender  x_flag    x_rate\n",
       "0        1  10代     男性       1  0.254905\n",
       "1        2  10代     女性       0  0.391095\n",
       "2        3  40代     女性       0  0.271188\n",
       "3        4  10代     男性       0  0.175226\n",
       "4        5  30代     男性       1  0.502966\n",
       "5        6  70代     男性       0  0.196705\n",
       "6        7  50代     男性       0  0.177865\n",
       "7        8  30代     女性       1  0.447726\n",
       "8        9  60代     女性       0  0.130806\n",
       "9       10  30代     女性       1  0.479201"
      ]
     },
     "execution_count": 5,
     "metadata": {},
     "output_type": "execute_result"
    }
   ],
   "source": [
    "df.head(10)"
   ]
  },
  {
   "cell_type": "markdown",
   "metadata": {},
   "source": [
    "## the number of users"
   ]
  },
  {
   "cell_type": "code",
   "execution_count": 6,
   "metadata": {
    "collapsed": false
   },
   "outputs": [
    {
     "data": {
      "text/html": [
       "<div>\n",
       "<table border=\"1\" class=\"dataframe\">\n",
       "  <thead>\n",
       "    <tr>\n",
       "      <th>gender</th>\n",
       "      <th colspan=\"7\" halign=\"left\">女性</th>\n",
       "      <th colspan=\"7\" halign=\"left\">男性</th>\n",
       "    </tr>\n",
       "    <tr>\n",
       "      <th>age</th>\n",
       "      <th>10代</th>\n",
       "      <th>20代</th>\n",
       "      <th>30代</th>\n",
       "      <th>40代</th>\n",
       "      <th>50代</th>\n",
       "      <th>60代</th>\n",
       "      <th>70代</th>\n",
       "      <th>10代</th>\n",
       "      <th>20代</th>\n",
       "      <th>30代</th>\n",
       "      <th>40代</th>\n",
       "      <th>50代</th>\n",
       "      <th>60代</th>\n",
       "      <th>70代</th>\n",
       "    </tr>\n",
       "    <tr>\n",
       "      <th>x_flag</th>\n",
       "      <th></th>\n",
       "      <th></th>\n",
       "      <th></th>\n",
       "      <th></th>\n",
       "      <th></th>\n",
       "      <th></th>\n",
       "      <th></th>\n",
       "      <th></th>\n",
       "      <th></th>\n",
       "      <th></th>\n",
       "      <th></th>\n",
       "      <th></th>\n",
       "      <th></th>\n",
       "      <th></th>\n",
       "    </tr>\n",
       "  </thead>\n",
       "  <tbody>\n",
       "    <tr>\n",
       "      <th>1</th>\n",
       "      <td>734</td>\n",
       "      <td>708</td>\n",
       "      <td>742</td>\n",
       "      <td>712</td>\n",
       "      <td>672</td>\n",
       "      <td>748</td>\n",
       "      <td>696</td>\n",
       "      <td>707</td>\n",
       "      <td>6380</td>\n",
       "      <td>6406</td>\n",
       "      <td>716</td>\n",
       "      <td>741</td>\n",
       "      <td>688</td>\n",
       "      <td>693</td>\n",
       "    </tr>\n",
       "    <tr>\n",
       "      <th>0</th>\n",
       "      <td>6589</td>\n",
       "      <td>6352</td>\n",
       "      <td>6395</td>\n",
       "      <td>6539</td>\n",
       "      <td>6523</td>\n",
       "      <td>6415</td>\n",
       "      <td>6379</td>\n",
       "      <td>6431</td>\n",
       "      <td>720</td>\n",
       "      <td>676</td>\n",
       "      <td>6480</td>\n",
       "      <td>6477</td>\n",
       "      <td>6293</td>\n",
       "      <td>6388</td>\n",
       "    </tr>\n",
       "    <tr>\n",
       "      <th>ratio of 1 (%)</th>\n",
       "      <td>10</td>\n",
       "      <td>10</td>\n",
       "      <td>10</td>\n",
       "      <td>9</td>\n",
       "      <td>9</td>\n",
       "      <td>10</td>\n",
       "      <td>9</td>\n",
       "      <td>9</td>\n",
       "      <td>89</td>\n",
       "      <td>90</td>\n",
       "      <td>9</td>\n",
       "      <td>10</td>\n",
       "      <td>9</td>\n",
       "      <td>9</td>\n",
       "    </tr>\n",
       "  </tbody>\n",
       "</table>\n",
       "</div>"
      ],
      "text/plain": [
       "gender            女性                                        男性              \\\n",
       "age              10代   20代   30代   40代   50代   60代   70代   10代   20代   30代   \n",
       "x_flag                                                                       \n",
       "1                734   708   742   712   672   748   696   707  6380  6406   \n",
       "0               6589  6352  6395  6539  6523  6415  6379  6431   720   676   \n",
       "ratio of 1 (%)    10    10    10     9     9    10     9     9    89    90   \n",
       "\n",
       "gender                                  \n",
       "age              40代   50代   60代   70代  \n",
       "x_flag                                  \n",
       "1                716   741   688   693  \n",
       "0               6480  6477  6293  6388  \n",
       "ratio of 1 (%)     9    10     9     9  "
      ]
     },
     "execution_count": 6,
     "metadata": {},
     "output_type": "execute_result"
    }
   ],
   "source": [
    "df_count = df.groupby([\"x_flag\", \"gender\", \"age\"])[\"user_id\"].count().unstack(level=[1,2]).sort_index(ascending=False)\n",
    "df_count.ix[\"ratio of 1 (%)\"] = 100 * df_count.ix[1, :] / (df_count.ix[1, :] + df_count.ix[0, :])\n",
    "df_count.astype(int)"
   ]
  },
  {
   "cell_type": "markdown",
   "metadata": {},
   "source": [
    "## mean of the rate"
   ]
  },
  {
   "cell_type": "code",
   "execution_count": 7,
   "metadata": {
    "collapsed": false
   },
   "outputs": [
    {
     "data": {
      "text/html": [
       "<div>\n",
       "<table border=\"1\" class=\"dataframe\">\n",
       "  <thead>\n",
       "    <tr>\n",
       "      <th>gender</th>\n",
       "      <th colspan=\"7\" halign=\"left\">女性</th>\n",
       "      <th colspan=\"7\" halign=\"left\">男性</th>\n",
       "    </tr>\n",
       "    <tr>\n",
       "      <th>age</th>\n",
       "      <th>10代</th>\n",
       "      <th>20代</th>\n",
       "      <th>30代</th>\n",
       "      <th>40代</th>\n",
       "      <th>50代</th>\n",
       "      <th>60代</th>\n",
       "      <th>70代</th>\n",
       "      <th>10代</th>\n",
       "      <th>20代</th>\n",
       "      <th>30代</th>\n",
       "      <th>40代</th>\n",
       "      <th>50代</th>\n",
       "      <th>60代</th>\n",
       "      <th>70代</th>\n",
       "    </tr>\n",
       "    <tr>\n",
       "      <th>x_flag</th>\n",
       "      <th></th>\n",
       "      <th></th>\n",
       "      <th></th>\n",
       "      <th></th>\n",
       "      <th></th>\n",
       "      <th></th>\n",
       "      <th></th>\n",
       "      <th></th>\n",
       "      <th></th>\n",
       "      <th></th>\n",
       "      <th></th>\n",
       "      <th></th>\n",
       "      <th></th>\n",
       "      <th></th>\n",
       "    </tr>\n",
       "  </thead>\n",
       "  <tbody>\n",
       "    <tr>\n",
       "      <th>1</th>\n",
       "      <td>0.402</td>\n",
       "      <td>0.399</td>\n",
       "      <td>0.402</td>\n",
       "      <td>0.397</td>\n",
       "      <td>0.397</td>\n",
       "      <td>0.399</td>\n",
       "      <td>0.402</td>\n",
       "      <td>0.398</td>\n",
       "      <td>0.786</td>\n",
       "      <td>0.778</td>\n",
       "      <td>0.400</td>\n",
       "      <td>0.403</td>\n",
       "      <td>0.403</td>\n",
       "      <td>0.405</td>\n",
       "    </tr>\n",
       "    <tr>\n",
       "      <th>0</th>\n",
       "      <td>0.201</td>\n",
       "      <td>0.200</td>\n",
       "      <td>0.203</td>\n",
       "      <td>0.204</td>\n",
       "      <td>0.201</td>\n",
       "      <td>0.199</td>\n",
       "      <td>0.199</td>\n",
       "      <td>0.200</td>\n",
       "      <td>0.782</td>\n",
       "      <td>0.779</td>\n",
       "      <td>0.199</td>\n",
       "      <td>0.202</td>\n",
       "      <td>0.199</td>\n",
       "      <td>0.199</td>\n",
       "    </tr>\n",
       "    <tr>\n",
       "      <th>diff (1-0)</th>\n",
       "      <td>0.201</td>\n",
       "      <td>0.200</td>\n",
       "      <td>0.199</td>\n",
       "      <td>0.193</td>\n",
       "      <td>0.196</td>\n",
       "      <td>0.200</td>\n",
       "      <td>0.203</td>\n",
       "      <td>0.197</td>\n",
       "      <td>0.004</td>\n",
       "      <td>-0.001</td>\n",
       "      <td>0.201</td>\n",
       "      <td>0.200</td>\n",
       "      <td>0.204</td>\n",
       "      <td>0.205</td>\n",
       "    </tr>\n",
       "  </tbody>\n",
       "</table>\n",
       "</div>"
      ],
      "text/plain": [
       "gender         女性                                               男性         \\\n",
       "age           10代    20代    30代    40代    50代    60代    70代    10代    20代   \n",
       "x_flag                                                                      \n",
       "1           0.402  0.399  0.402  0.397  0.397  0.399  0.402  0.398  0.786   \n",
       "0           0.201  0.200  0.203  0.204  0.201  0.199  0.199  0.200  0.782   \n",
       "diff (1-0)  0.201  0.200  0.199  0.193  0.196  0.200  0.203  0.197  0.004   \n",
       "\n",
       "gender                                         \n",
       "age           30代    40代    50代    60代    70代  \n",
       "x_flag                                         \n",
       "1           0.778  0.400  0.403  0.403  0.405  \n",
       "0           0.779  0.199  0.202  0.199  0.199  \n",
       "diff (1-0) -0.001  0.201  0.200  0.204  0.205  "
      ]
     },
     "execution_count": 7,
     "metadata": {},
     "output_type": "execute_result"
    }
   ],
   "source": [
    "df_rate = df.groupby([\"x_flag\", \"gender\", \"age\"])[\"x_rate\"].mean().unstack(level=[1,2]).sort_index(ascending=False)\n",
    "df_rate.ix['diff (1-0)', :] = df_rate.ix[1, :] - df_rate.ix[0, :]\n",
    "df_rate.round(3)"
   ]
  },
  {
   "cell_type": "markdown",
   "metadata": {},
   "source": [
    "## Estimate the Naive Expected Effect"
   ]
  },
  {
   "cell_type": "code",
   "execution_count": 8,
   "metadata": {
    "collapsed": false
   },
   "outputs": [
    {
     "name": "stdout",
     "output_type": "stream",
     "text": [
      "Expected Effect = 0.418   (x_flag=1 : 0.629, x_flag=0 : 0.2109) \n"
     ]
    }
   ],
   "source": [
    "E1 = np.mean(df.ix[df[\"x_flag\"] == 1, \"x_rate\"])\n",
    "E0 = np.mean(df.ix[df[\"x_flag\"] == 0, \"x_rate\"])\n",
    "E = E1 - E0\n",
    "print(\"Expected Effect = {0}   (x_flag=1 : {1}, x_flag=0 : {2}) \".format(round(E, 3), round(E1, 3), round(E0, 4)))"
   ]
  },
  {
   "cell_type": "markdown",
   "metadata": {},
   "source": [
    "# Analysis with Propensity Score"
   ]
  },
  {
   "cell_type": "code",
   "execution_count": 9,
   "metadata": {
    "collapsed": true
   },
   "outputs": [],
   "source": [
    "from sklearn.linear_model import LogisticRegression "
   ]
  },
  {
   "cell_type": "code",
   "execution_count": 20,
   "metadata": {
    "collapsed": false
   },
   "outputs": [],
   "source": [
    "class PropensityScore:\n",
    "    def __init__(selef, df):\n",
    "        selef.df_data = df.copy()\n",
    "        \n",
    "    def fit(self, X_vars):\n",
    "        #calculate propensity score 'e' by Logistic Regression\n",
    "        self.model = LogisticRegression() \n",
    "        self.X = pd.get_dummies(self.df_data[X_vars]).values\n",
    "        self.y = self.df_data[\"x_flag\"].values\n",
    "        self.model.fit(self.X, self.y)\n",
    "        self.df_data[\"e\"] = self.model.predict_proba(self.X)[:, np.where(self.model.classes_ == 1)].flatten()\n",
    "        \n",
    "    def estimate(self):\n",
    "        #calculate 'IPWE'(Inverse Probability Weighting Estimator)\n",
    "        w1 = self.df_data[\"x_flag\"] / self.df_data[\"e\"]\n",
    "        w0 = (1 - self.df_data[\"x_flag\"]) / (1 - self.df_data[\"e\"]) \n",
    "        self.E1 = (np.sum(self.df_data[\"x_rate\"] * w1)) / np.sum(w1) # E(y1)\n",
    "        self.E0 = (np.sum(self.df_data[\"x_rate\"] * w0)) / np.sum(w0) # E(y0)\n",
    "        \n",
    "        #calculate other expectation values\n",
    "        w1 = self.df_data[\"x_flag\"]\n",
    "        w0 = (1 - self.df_data[\"x_flag\"])\n",
    "        self.E11 = (np.sum(self.df_data[\"x_rate\"] * w1)) / np.sum(w1) # E(y1|z=1)\n",
    "        self.E00 = (np.sum(self.df_data[\"x_rate\"] * w0)) / np.sum(w0) # E(y0|z=0)\n",
    "        self.p1 = np.sum(w1) / np.sum(w0 + w1) # p(z=1)\n",
    "        self.p0 = np.sum(w0) / np.sum(w0 + w1) # p(z=0)\n",
    "        \n",
    "        self.E10 = (self.E1 - self.E11 * self.p1) / self.p0 if self.p0 != 0 else None # E(y1|z=0)\n",
    "        self.E01 = (self.E0 - self.E00 * self.p0) / self.p1 if self.p1 != 0 else None # E(y0|z=1)\n",
    "        \n",
    "        self.ATE = self.E1 - self.E0   # E(y1 - y0)\n",
    "        self.ATT = self.E11 - self.E01 # E(y1 - y0|z=1)\n",
    "        self.ATU = self.E10 - self.E00 # E(y1 - y0|z=0)"
   ]
  },
  {
   "cell_type": "code",
   "execution_count": 21,
   "metadata": {
    "collapsed": true
   },
   "outputs": [],
   "source": [
    "ps = PropensityScore(df)"
   ]
  },
  {
   "cell_type": "code",
   "execution_count": 22,
   "metadata": {
    "collapsed": false
   },
   "outputs": [],
   "source": [
    "ps.fit([\"age\", \"gender\"])\n",
    "ps.estimate()"
   ]
  },
  {
   "cell_type": "code",
   "execution_count": 26,
   "metadata": {
    "collapsed": false
   },
   "outputs": [
    {
     "name": "stdout",
     "output_type": "stream",
     "text": [
      "ATE = E(y1 - y0) = 0.209\n"
     ]
    }
   ],
   "source": [
    "print(\"ATE = E(y1 - y0) = {0}\".format(round(ps.ATE, 3)))"
   ]
  },
  {
   "cell_type": "code",
   "execution_count": 25,
   "metadata": {
    "collapsed": false
   },
   "outputs": [
    {
     "name": "stdout",
     "output_type": "stream",
     "text": [
      "ATT = E(y1 - y0|z=1) = 0.321\n",
      "ATU = E(y1 - y0|z=0) = 0.178\n"
     ]
    }
   ],
   "source": [
    "print(\"ATT = E(y1 - y0|z=1) = {0}\".format(round(ps.ATT, 3)))\n",
    "print(\"ATU = E(y1 - y0|z=0) = {0}\".format(round(ps.ATU, 3)))"
   ]
  },
  {
   "cell_type": "code",
   "execution_count": 27,
   "metadata": {
    "collapsed": false
   },
   "outputs": [
    {
     "data": {
      "text/plain": [
       "0.21343000000000001"
      ]
     },
     "execution_count": 27,
     "metadata": {},
     "output_type": "execute_result"
    }
   ],
   "source": [
    "ps.p1"
   ]
  },
  {
   "cell_type": "code",
   "execution_count": 28,
   "metadata": {
    "collapsed": false
   },
   "outputs": [
    {
     "data": {
      "text/plain": [
       "0.78656999999999999"
      ]
     },
     "execution_count": 28,
     "metadata": {},
     "output_type": "execute_result"
    }
   ],
   "source": [
    "ps.p0"
   ]
  },
  {
   "cell_type": "code",
   "execution_count": 29,
   "metadata": {
    "collapsed": false
   },
   "outputs": [
    {
     "data": {
      "text/plain": [
       "0.20888280297641398"
      ]
     },
     "execution_count": 29,
     "metadata": {},
     "output_type": "execute_result"
    }
   ],
   "source": [
    "ps.ATT * ps.p1 + ps.ATU * ps.p0"
   ]
  },
  {
   "cell_type": "code",
   "execution_count": 35,
   "metadata": {
    "collapsed": false
   },
   "outputs": [
    {
     "data": {
      "text/plain": [
       "0.6289945371017629"
      ]
     },
     "execution_count": 35,
     "metadata": {},
     "output_type": "execute_result"
    }
   ],
   "source": [
    "ps.E11"
   ]
  },
  {
   "cell_type": "code",
   "execution_count": 31,
   "metadata": {
    "collapsed": false
   },
   "outputs": [
    {
     "data": {
      "text/plain": [
       "0.30784832494047504"
      ]
     },
     "execution_count": 31,
     "metadata": {},
     "output_type": "execute_result"
    }
   ],
   "source": [
    "ps.E01"
   ]
  },
  {
   "cell_type": "code",
   "execution_count": 32,
   "metadata": {
    "collapsed": false
   },
   "outputs": [
    {
     "data": {
      "text/plain": [
       "0.21093636450796127"
      ]
     },
     "execution_count": 32,
     "metadata": {},
     "output_type": "execute_result"
    }
   ],
   "source": [
    "ps.E00"
   ]
  },
  {
   "cell_type": "code",
   "execution_count": 34,
   "metadata": {
    "collapsed": false
   },
   "outputs": [
    {
     "data": {
      "text/plain": [
       "0.38935731485545777"
      ]
     },
     "execution_count": 34,
     "metadata": {},
     "output_type": "execute_result"
    }
   ],
   "source": [
    "ps.E10"
   ]
  },
  {
   "cell_type": "code",
   "execution_count": null,
   "metadata": {
    "collapsed": true
   },
   "outputs": [],
   "source": []
  }
 ],
 "metadata": {
  "kernelspec": {
   "display_name": "Python 3",
   "language": "python",
   "name": "python3"
  },
  "language_info": {
   "codemirror_mode": {
    "name": "ipython",
    "version": 3
   },
   "file_extension": ".py",
   "mimetype": "text/x-python",
   "name": "python",
   "nbconvert_exporter": "python",
   "pygments_lexer": "ipython3",
   "version": "3.6.0"
  }
 },
 "nbformat": 4,
 "nbformat_minor": 2
}
